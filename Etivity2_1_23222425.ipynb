{
  "nbformat": 4,
  "nbformat_minor": 0,
  "metadata": {
    "colab": {
      "provenance": [],
      "authorship_tag": "ABX9TyPFVeVupzN2rzeEKaSYJ1W5",
      "include_colab_link": true
    },
    "kernelspec": {
      "name": "python3",
      "display_name": "Python 3"
    },
    "language_info": {
      "name": "python"
    }
  },
  "cells": [
    {
      "cell_type": "markdown",
      "metadata": {
        "id": "view-in-github",
        "colab_type": "text"
      },
      "source": [
        "<a href=\"https://colab.research.google.com/github/maguid28/EE6041-TAandNLP/blob/main/Etivity2_1_23222425.ipynb\" target=\"_parent\"><img src=\"https://colab.research.google.com/assets/colab-badge.svg\" alt=\"Open In Colab\"/></a>"
      ]
    },
    {
      "cell_type": "markdown",
      "source": [
        ""
      ],
      "metadata": {
        "id": "DYFPOMQ63mgn"
      }
    },
    {
      "cell_type": "markdown",
      "source": [
        ""
      ],
      "metadata": {
        "id": "vMjSCHMB3wao"
      }
    },
    {
      "cell_type": "markdown",
      "source": [
        "# Etivity2"
      ],
      "metadata": {
        "id": "jq9FzjqE35os"
      }
    },
    {
      "cell_type": "markdown",
      "source": [
        "##Task 1\n",
        "\n",
        " Modify this code such that:\n",
        "\n",
        "(a) the function measures a weighted edit distance, where  \n",
        "insertion cost = 1, deletion cost = 1\n",
        "substitution cost = 1, if a letter is substituted with another letter\n",
        "substitution cost = 2, if a letter is substituted with a number\n",
        "\n",
        "(b) use the time.time() method to measure the execution time.\n",
        "Note1: in case you are not familiar with recursive functions, you must first watch the short optional video in the lesson which reviews this topic. Once you understand how to compute n! using a recursive function, you can solve this task quickly.\n",
        "\n",
        "Note2 (optional): More advanced coders can consider adding tracing capabilities to their recursive function. This optional task carries no marks but could be an insightful way to understand recursion.\n"
      ],
      "metadata": {
        "id": "6CATAkuw4Wb6"
      }
    },
    {
      "cell_type": "code",
      "execution_count": null,
      "metadata": {
        "id": "wcBW-l-_3kOr"
      },
      "outputs": [],
      "source": [
        "import time\n",
        "import re\n",
        "import csv\n",
        "\n",
        "#How many insertions, deletions, or substitutions does it take to turn x into y?\n",
        "def edDistRecursive(x, y):\n",
        "\n",
        "    # If either x or y are empty, then one or more (depending on their length) INSERTIONS or DELECTIONS are needed to transform x to y.\n",
        "    if len(x) == 0:\n",
        "        #print(f'\\t Converting \"{x}\" TO \"{y}\" requires {len(y)} INSERTIONS, therefor it costs {len(y)}')\n",
        "        return len(y)\n",
        "    if len(y) == 0:\n",
        "        #print(f'\\t Converting \"{x}\" TO \"{y}\" requires {len(x)} DELETIONS, therefor it costs {len(x)}')\n",
        "        return len(x)\n",
        "\n",
        "    # When neither x or y are empty, we must compute the cost of each operation and find the least costly one.\n",
        "    delta = 1 if x[-1] != y[-1] else 0\n",
        "\n",
        "    # if last_char in x is string and last_char is string: then delta = 2\n",
        "    if (x[-1] not in '0123456789') and (y[-1] in '0123456789') :\n",
        "      delta = 2\n",
        "\n",
        "    diagonal_or_substitution_cost = edDistRecursive(x[:-1], y[:-1]) + delta\n",
        "    vertical_or_deletion_cost     = edDistRecursive(x[:-1], y)      + 1     #what's the cost of DELETING the last character of x\n",
        "    horizontal_or_insertion_cost  = edDistRecursive(x, y[:-1])      + 1     #what's the cost of INSERTING the last character of x into y\n",
        "\n",
        "    # what's the least costly operation?\n",
        "    minValue = min(diagonal_or_substitution_cost, vertical_or_deletion_cost, horizontal_or_insertion_cost)\n",
        "    return minValue"
      ]
    },
    {
      "cell_type": "code",
      "source": [
        "x = 'c'\n",
        "y = '2'\n",
        "\n",
        "start_time = time.time()\n",
        "min_distance = edDistRecursive(x,y)\n",
        "end_time = time.time()\n",
        "\n",
        "elapsed_time = end_time - start_time\n",
        "print(\"Edit Distance between \\\"\" + x + \"\\\" and \\\"\" + y + \"\\\" : \" + str(min_distance))\n",
        "print('--- Executed in:', elapsed_time, 'seconds ---')\n"
      ],
      "metadata": {
        "colab": {
          "base_uri": "https://localhost:8080/"
        },
        "id": "HdnQvEHW4r8p",
        "outputId": "d73b18ad-46a7-4aed-c986-4009237b4733"
      },
      "execution_count": null,
      "outputs": [
        {
          "output_type": "stream",
          "name": "stdout",
          "text": [
            "Edit Distance between \"c\" and \"2\" : 2\n",
            "--- Executed in: 7.700920104980469e-05 seconds ---\n"
          ]
        }
      ]
    },
    {
      "cell_type": "markdown",
      "source": [
        "#Task 2"
      ],
      "metadata": {
        "id": "bS6BYuR88k_z"
      }
    },
    {
      "cell_type": "markdown",
      "source": [
        "To complete this task you need to install two libraries:\n",
        "Install the First and Last Names Dataset (https://github.com/philipperemy/name-dataset).  (!pip install names-dataset)\n",
        "Install the jellyfish library for doing approximate and phonetic matching of strings (https://github.com/jamesturk/jellyfish)  (!pip install jellyfish)\n",
        "\n",
        "\n",
        "Write a function that takes your firstName and lastName as input and checks if they exist in the First and Last Names dataset.\n",
        "\n",
        "Write a function that takes your firstName and lastName as input and prints out their  Soundex codes (use the Soundex function in the jellyfish library).\n",
        "\n",
        "Write a function that takes your firstName as input and prints out a list of first names in the dataset whose Soundex codes are the same as your firstName’s Soundex code.\n",
        "\n",
        "Write a function that takes your firstName and lastName as input and returns their Levenshtein Distance (use the Levenshtein Distance function in the jellyfish library).\n"
      ],
      "metadata": {
        "id": "4dxbOsWU8q9O"
      }
    },
    {
      "cell_type": "code",
      "source": [
        "!pip install names-dataset jellyfish"
      ],
      "metadata": {
        "colab": {
          "base_uri": "https://localhost:8080/"
        },
        "id": "euXDnD6n8qqu",
        "outputId": "1ba6bd5a-64be-46bf-d011-25af6f060601"
      },
      "execution_count": null,
      "outputs": [
        {
          "output_type": "stream",
          "name": "stdout",
          "text": [
            "Requirement already satisfied: names-dataset in /usr/local/lib/python3.10/dist-packages (3.1.0)\n",
            "Requirement already satisfied: jellyfish in /usr/local/lib/python3.10/dist-packages (1.0.1)\n",
            "Requirement already satisfied: pycountry in /usr/local/lib/python3.10/dist-packages (from names-dataset) (22.3.5)\n",
            "Requirement already satisfied: setuptools in /usr/local/lib/python3.10/dist-packages (from pycountry->names-dataset) (67.7.2)\n"
          ]
        }
      ]
    },
    {
      "cell_type": "code",
      "source": [
        "from names_dataset import NameDataset, NameWrapper\n",
        "import jellyfish"
      ],
      "metadata": {
        "id": "iBBgA9nT9L79"
      },
      "execution_count": null,
      "outputs": []
    },
    {
      "cell_type": "code",
      "source": [
        "# Initialize the name dataset\n",
        "nd = NameDataset()"
      ],
      "metadata": {
        "id": "9TniFDhjM0rh"
      },
      "execution_count": null,
      "outputs": []
    },
    {
      "cell_type": "code",
      "source": [
        "def isNameInDataset(firstName, lastName) :\n",
        "  if nd.search(firstName) and nd.search(lastName):\n",
        "    print(\"Name exists in database.\")\n",
        "  else:\n",
        "    print(\"Name does not exist in database.\")\n",
        "\n",
        "isNameInDataset(\"Daniel\", \"Maguire\")"
      ],
      "metadata": {
        "colab": {
          "base_uri": "https://localhost:8080/"
        },
        "id": "3QtNa0EE82or",
        "outputId": "9b528865-c945-40fe-c048-c0db0fe09090"
      },
      "execution_count": null,
      "outputs": [
        {
          "output_type": "stream",
          "name": "stdout",
          "text": [
            "Name exists in database.\n"
          ]
        }
      ]
    },
    {
      "cell_type": "code",
      "source": [
        "def soundexCodes(firstName, lastName) :\n",
        "  firstname_input_soundex = jellyfish.soundex(firstName)\n",
        "  lastname_input_soundex = jellyfish.soundex(lastName)\n",
        "\n",
        "  print(\"firstName soundex: \" + firstname_input_soundex)\n",
        "  print(\"lastName soundex: \" + lastname_input_soundex)\n",
        "\n",
        "soundexCodes(\"Daniel\", \"Maguire\")"
      ],
      "metadata": {
        "colab": {
          "base_uri": "https://localhost:8080/"
        },
        "id": "uScjHBDGGzgE",
        "outputId": "86370e86-fd04-48ed-b21d-d0c97a67e13e"
      },
      "execution_count": null,
      "outputs": [
        {
          "output_type": "stream",
          "name": "stdout",
          "text": [
            "firstName soundex: D540\n",
            "lastName soundex: M260\n"
          ]
        }
      ]
    },
    {
      "cell_type": "code",
      "source": [
        "firstnames = nd.first_names.keys()\n",
        "\n",
        "def sameSoundex(first_name) :\n",
        "  fn_soundex = jellyfish.soundex(first_name)\n",
        "  for name in firstnames:\n",
        "      if name.isascii() :\n",
        "        if fn_soundex == jellyfish.soundex(name):\n",
        "          print(name)\n",
        "\n",
        "sameSoundex(\"Daniel\")"
      ],
      "metadata": {
        "colab": {
          "base_uri": "https://localhost:8080/"
        },
        "id": "XXabyUSmHoj6",
        "outputId": "c1e6229e-edde-4424-e5fc-61909840af95"
      },
      "execution_count": null,
      "outputs": [
        {
          "output_type": "stream",
          "name": "stdout",
          "text": [
            "D Mili\n",
            "Daaniel\n",
            "Daaniela\n",
            "Daaniiel\n",
            "Daanyaal\n",
            "Dahimel\n",
            "Dainalee\n",
            "Dainel\n",
            "Dainiel\n",
            "Damael\n",
            "Damali\n",
            "Damalie\n",
            "Dameale\n",
            "Damel\n",
            "Dameli\n",
            "Damelia\n",
            "Damelya\n",
            "Damiel\n",
            "Damielle\n",
            "Damil\n",
            "Damilya\n",
            "Damla\n",
            "Damlaa\n",
            "Damola\n",
            "Dan-Ola\n",
            "Danaiela\n",
            "Danail\n",
            "Danaila\n",
            "Danalee\n",
            "Danali\n",
            "Danalla\n",
            "Daneal\n",
            "Daneel\n",
            "Daneil\n",
            "Daneila\n",
            "Daneile\n",
            "Daneilia\n",
            "Daneilla\n",
            "Daneille\n",
            "Daneillia\n",
            "Daneilo\n",
            "Danel\n",
            "Danela\n",
            "Danele\n",
            "Daneli\n",
            "Danelia\n",
            "Daneliya\n",
            "Danell\n",
            "Danella\n",
            "Danelle\n",
            "Danelly\n",
            "Danelo\n",
            "Danely\n",
            "Danelya\n",
            "Daneyal\n",
            "Dani El\n",
            "Dani Elle\n",
            "Dani Yoel\n",
            "Daniaal\n",
            "Danial\n",
            "Daniall\n",
            "Danialla\n",
            "Danieal\n",
            "Danieel\n",
            "Danieela\n",
            "Daniehl\n",
            "Daniel\n",
            "Daniel A\n",
            "Daniel E\n",
            "Daniel Ewa\n",
            "Daniel H\n",
            "Daniel O\n",
            "Daniel W\n",
            "Daniel Yaw\n",
            "Daniela\n",
            "Danielaa\n",
            "Danielah\n",
            "Daniele\n",
            "Daniele E\n",
            "Danielhee\n",
            "Danieli\n",
            "Danielia\n",
            "Daniell\n",
            "Daniella\n",
            "Daniellah\n",
            "Danielle\n",
            "Daniellea\n",
            "Danielli\n",
            "Daniello\n",
            "Danielly\n",
            "Danielo\n",
            "Daniely\n",
            "Danihel\n",
            "Daniiel\n",
            "Daniiela\n",
            "Daniielaa\n",
            "Daniiell\n",
            "Daniiella\n",
            "Daniielle\n",
            "Daniil\n",
            "Daniila\n",
            "Daniilo\n",
            "Danil\n",
            "Danila\n",
            "Danile\n",
            "Danilia\n",
            "Danill\n",
            "Danilla\n",
            "Danille\n",
            "Danillo\n",
            "Danilo\n",
            "Daniloo\n",
            "Danilu\n",
            "Daniol\n",
            "Daniwell\n",
            "Daniyal\n",
            "Daniyall\n",
            "Daniyel\n",
            "Daniyl\n",
            "Danla\n",
            "Danley\n",
            "Danli\n",
            "Danly\n",
            "Dannalee\n",
            "Danneil\n",
            "Danneilla\n",
            "Dannel\n",
            "Danniel\n",
            "Danniela\n",
            "Danniele\n",
            "Danniella\n",
            "Dannielle\n",
            "Dannielly\n",
            "Danniely\n",
            "Dannil\n",
            "Dannilo\n",
            "Danny L\n",
            "Dannyel\n",
            "Dannyela\n",
            "Dannyele\n",
            "Dannyella\n",
            "Dannyelle\n",
            "Dannyelly\n",
            "Dannylo\n",
            "Danuel\n",
            "Danuil\n",
            "Danula\n",
            "Danwill\n",
            "Danyaal\n",
            "Danyael\n",
            "Danyal\n",
            "Danyale\n",
            "Danyel\n",
            "Danyela\n",
            "Danyele\n",
            "Danyelh\n",
            "Danyeli\n",
            "Danyell\n",
            "Danyella\n",
            "Danyelle\n",
            "Danyelly\n",
            "Danyelo\n",
            "Danyil\n",
            "Danyl\n",
            "Danyla\n",
            "Danylla\n",
            "Danyllo\n",
            "Danylo\n",
            "Dawnalee\n",
            "Dawnel\n",
            "Dawu Mawilla\n",
            "Daynielle\n",
            "De Mello\n",
            "De Melo\n",
            "Deanuel\n",
            "Deimile\n",
            "Deiniol\n",
            "Dema Lee\n",
            "Demal\n",
            "Demalie\n",
            "Demel\n",
            "Demell\n",
            "Demi-Lea\n",
            "Demi-Lee\n",
            "Demila\n",
            "Demile\n",
            "Demilee\n",
            "Demol\n",
            "Demola\n",
            "Denail\n",
            "Denal\n",
            "Denali\n",
            "Deneil\n",
            "Denel\n",
            "Denelia\n",
            "Denial\n",
            "Deniel\n",
            "Deniell\n",
            "Denielle\n",
            "Denil\n",
            "Denile\n",
            "Denily\n",
            "Deniyal\n",
            "Denley\n",
            "Denly\n",
            "Denniel\n",
            "Denoil\n",
            "Denoula\n",
            "Denuel\n",
            "Denula\n",
            "Denule\n",
            "Denylee\n",
            "Deonel\n",
            "Dhaniel\n",
            "Dhenil\n",
            "Dhimal\n",
            "Diamela\n",
            "Diameli\n",
            "Diamila\n",
            "Diana Eli\n",
            "Diana L\n",
            "Dianel\n",
            "Dianela\n",
            "Dianella\n",
            "Dianelly\n",
            "Dianely\n",
            "Dianile\n",
            "Dianlly\n",
            "Dienel\n",
            "Dienol\n",
            "Dieunel\n",
            "Dimal\n",
            "Dimla\n",
            "Dimulia\n",
            "Dinael\n",
            "Dinah-Lee\n",
            "Dinahlee\n",
            "Dinal\n",
            "Dinally\n",
            "Dinaol\n",
            "Dineile\n",
            "Dinel\n",
            "Dinela\n",
            "Dinelia\n",
            "Dinelly\n",
            "Dinely\n",
            "Dinil\n",
            "Dinilo\n",
            "Dinla\n",
            "Dinnella\n",
            "Dionel\n",
            "Dionela\n",
            "Dionila\n",
            "Dionnel\n",
            "Dneal\n",
            "Dniel\n",
            "Dnil\n",
            "Dnl\n",
            "Doamel\n",
            "Dohnal\n",
            "Doinel\n",
            "Doinelu\n",
            "Dome Leo\n",
            "Domel\n",
            "Domhnaill\n",
            "Domhnall\n",
            "Domila\n",
            "Domile\n",
            "Domnall\n",
            "Domnul\n",
            "Donaill\n",
            "Donal\n",
            "Donalee\n",
            "Donalio\n",
            "Donall\n",
            "Doneil\n",
            "Doneilia\n",
            "Donel\n",
            "Donela\n",
            "Donelia\n",
            "Doneliya\n",
            "Donell\n",
            "Donella\n",
            "Donelle\n",
            "Donelly\n",
            "Doniel\n",
            "Donielle\n",
            "Donil\n",
            "Donilo\n",
            "Donna Lee\n",
            "Donna-Lee\n",
            "Donnalee\n",
            "Donnel\n",
            "Donnell\n",
            "Donnelly\n",
            "Donuel\n",
            "Douanla\n",
            "Downhill\n",
            "Duamel\n",
            "Duanell\n",
            "Duhamel\n",
            "Dumila\n",
            "Dumile\n",
            "Dumle\n",
            "Dumlu\n",
            "Dunhil\n",
            "Dunhill\n",
            "Duniel\n",
            "Dwimalu\n",
            "Dyenoula\n",
            "Dynalee\n"
          ]
        }
      ]
    },
    {
      "cell_type": "code",
      "source": [
        "def lev_distance(first_name, last_name):\n",
        "  print(\"levenshtein distance = \" + str(jellyfish.levenshtein_distance(first_name, last_name)))\n",
        "\n",
        "lev_distance(\"Daniel\", \"Maguire\")"
      ],
      "metadata": {
        "colab": {
          "base_uri": "https://localhost:8080/"
        },
        "id": "NKmX7hzMJwno",
        "outputId": "73b06cb8-9307-43b5-e6ac-9b178793949e"
      },
      "execution_count": null,
      "outputs": [
        {
          "output_type": "stream",
          "name": "stdout",
          "text": [
            "levenshtein distance = 5\n"
          ]
        }
      ]
    }
  ]
}
