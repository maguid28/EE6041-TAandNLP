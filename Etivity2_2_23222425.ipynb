{
  "nbformat": 4,
  "nbformat_minor": 0,
  "metadata": {
    "colab": {
      "provenance": [],
      "authorship_tag": "ABX9TyMIQy9q3mJtnpGjJeMCjVfA",
      "include_colab_link": true
    },
    "kernelspec": {
      "name": "python3",
      "display_name": "Python 3"
    },
    "language_info": {
      "name": "python"
    }
  },
  "cells": [
    {
      "cell_type": "markdown",
      "metadata": {
        "id": "view-in-github",
        "colab_type": "text"
      },
      "source": [
        "<a href=\"https://colab.research.google.com/github/maguid28/EE6041-TAandNLP/blob/main/Etivity2_2_23222425.ipynb\" target=\"_parent\"><img src=\"https://colab.research.google.com/assets/colab-badge.svg\" alt=\"Open In Colab\"/></a>"
      ]
    },
    {
      "cell_type": "code",
      "source": [
        "!pip install jellyfish"
      ],
      "metadata": {
        "id": "bCbzLtMN8AOJ",
        "outputId": "61e75fb6-0fa1-4c20-ca47-a500215a3e9f",
        "colab": {
          "base_uri": "https://localhost:8080/"
        }
      },
      "execution_count": null,
      "outputs": [
        {
          "output_type": "stream",
          "name": "stdout",
          "text": [
            "Collecting jellyfish\n",
            "  Downloading jellyfish-1.0.1-cp310-cp310-manylinux_2_17_x86_64.manylinux2014_x86_64.whl (1.2 MB)\n",
            "\u001b[2K     \u001b[90m━━━━━━━━━━━━━━━━━━━━━━━━━━━━━━━━━━━━━━━━\u001b[0m \u001b[32m1.2/1.2 MB\u001b[0m \u001b[31m15.4 MB/s\u001b[0m eta \u001b[36m0:00:00\u001b[0m\n",
            "\u001b[?25hInstalling collected packages: jellyfish\n",
            "Successfully installed jellyfish-1.0.1\n"
          ]
        }
      ]
    },
    {
      "cell_type": "code",
      "source": [
        "# Ver.2021\n",
        "import re\n",
        "import time\n",
        "\n",
        "# A helper function for formatting and printing the DP table. >>> DO NOT MODIFY <<<\n",
        "def printTable(table, description):\n",
        "    print(f'{description}\\n')\n",
        "    current_row = current_col = 0\n",
        "    current_row_col = re.search(\"^row ([0-9]+) , col ([0-9]+)$\",description)\n",
        "    if current_row_col:\n",
        "        current_row = int(current_row_col.group(1))\n",
        "        current_col= int(current_row_col.group(2))\n",
        "    row_counter=0\n",
        "    for row in table:\n",
        "        row_counter+=1\n",
        "        col_counter=0\n",
        "        for col in row:\n",
        "            col_counter+=1\n",
        "            #print(row_counter , row, current_col, col)\n",
        "            if (row_counter == current_row) and (col_counter == current_col):\n",
        "                formatting = '\\033[1m'+'\\033[91m' #bold + red\n",
        "            else: formatting = '\\x1b[0m' #reset fomatting\n",
        "            print(formatting + str(col).rjust(10, ' '), end=' ')  # rjust returns a 10-characters long, right justified version of the string\n",
        "        print('\\n\\n')\n",
        "    print('---------------------------------------------------------------------------------------------------------------')\n",
        "\n",
        " # A DP-based solution for edit distance problem\n",
        "def editDistDP(x,y):\n",
        "\n",
        "    backtrace_string = \"\"\n",
        "\n",
        "\n",
        "    dp = [] # Create an empty (Dynamic Pgoramming) table to store results of subproblems\n",
        "    st = []\n",
        "\n",
        "    # fill in the table with zeros\n",
        "    for row in range(len(x) + 1):\n",
        "        dp.append([0]* (len(y) + 1))\n",
        "        st.append([\" \"]* (len(y) + 1))\n",
        "    # Alternatively, you can use List Comprehension to initiate the DP table in one line of code\n",
        "    # dp = [[0 for column in range(len(y) + 1)] for row in range(len(x) + 1)]\n",
        "\n",
        "    # Fill in the base case (easy) subproblems, i.e. the first row and column of the DP table\n",
        "\n",
        "    # first row: base case subproblems for computing the cost of converting \"\" to y\n",
        "    for j in range(len(y) + 1):\n",
        "        # If x is empty then the only option is to insert all the characters of y\n",
        "        # Minimum number of required operations (cost) is j insertions, where j = len(y)\n",
        "        dp[0][j] = j\n",
        "        st[0][j] = str(j) + \"←\"\n",
        "\n",
        "# first column: base case subproblems for computing the cost of converting x to \"\"\n",
        "    for i in range(len(x) + 1):\n",
        "        # If y is empty then the only option is to delete all the characters of x\n",
        "        # Minimum number of required operations (cost) is i deletions, where i = len(x)\n",
        "        dp[i][0] = i\n",
        "        st[i][0] = str(i) + \"↑\"\n",
        "\n",
        "    #printTable(dp,\"DP table after the base case (easy) subproblems are solved\");\n",
        "\n",
        "    # Fill in the rest of the DP table in a BOTTOM-UP manner\n",
        "    for i in range(1, len(x) + 1):\n",
        "        for j in range(1, len(y) + 1):\n",
        "\n",
        "            horizontal_or_insertion_cost = dp[i][j-1] + 1\n",
        "            vertical_or_deletion_cost= dp[i-1][j] + 1\n",
        "\n",
        "            delta = 2 if x[i-1] != y[j-1] else 0\n",
        "            diagonal_or_substitution_cost= dp[i-1][j-1] + delta\n",
        "\n",
        "            minValue = min(horizontal_or_insertion_cost,vertical_or_deletion_cost,diagonal_or_substitution_cost)\n",
        "\n",
        "            #my code\n",
        "            if minValue == horizontal_or_insertion_cost :\n",
        "              backtrace_string += \"←\"\n",
        "\n",
        "            if minValue == vertical_or_deletion_cost:\n",
        "              backtrace_string += \"↑\"\n",
        "\n",
        "            if minValue == diagonal_or_substitution_cost:\n",
        "              backtrace_string += \"↖\"\n",
        "\n",
        "            #print(backtrace_string)\n",
        "\n",
        "            dp[i][j] = minValue\n",
        "            st[i][j] = str(minValue) + backtrace_string\n",
        "\n",
        "            #print(dp_backtrace[i,j])\n",
        "\n",
        "            backtrace_string = \"\"\n",
        "            #printTable(dp,f'row {i+1} , col {j+1}') #UNCOMMENT this line to see how the DP table is filled at each step\n",
        "\n",
        "    printTable(dp,\"Original Completed DP table after all the subproblems are solved\")\n",
        "    printTable(st,\"Augmented DP table with backtrace arrows added\")\n",
        "    return dp[-1][-1]\n"
      ],
      "metadata": {
        "id": "ZHzF3RwT6EMs"
      },
      "execution_count": null,
      "outputs": []
    },
    {
      "cell_type": "code",
      "source": [
        "str1, str2 = \"intention\", \"execution\"\n",
        "start_time = time.time()\n",
        "min_distance = editDistDP(str1, str2)\n",
        "end_time = time.time()\n",
        "\n",
        "elapsed_time = end_time - start_time\n",
        "print(\"Levinshtien Distance between \\\"\" + str1 + \"\\\" and \\\"\" + str2 + \"\\\" : \" + str(min_distance))\n",
        "print('--- Executed in:', elapsed_time, 'seconds ---')"
      ],
      "metadata": {
        "id": "8YrHCJil8tUY",
        "outputId": "b963d062-c15e-4489-8f59-f73a905c67a3",
        "colab": {
          "base_uri": "https://localhost:8080/"
        }
      },
      "execution_count": null,
      "outputs": [
        {
          "output_type": "stream",
          "name": "stdout",
          "text": [
            "Original Completed DP table after all the subproblems are solved\n",
            "\n",
            "\u001b[0m         0 \u001b[0m         1 \u001b[0m         2 \u001b[0m         3 \u001b[0m         4 \u001b[0m         5 \u001b[0m         6 \u001b[0m         7 \u001b[0m         8 \u001b[0m         9 \n",
            "\n",
            "\n",
            "\u001b[0m         1 \u001b[0m         2 \u001b[0m         3 \u001b[0m         4 \u001b[0m         5 \u001b[0m         6 \u001b[0m         7 \u001b[0m         6 \u001b[0m         7 \u001b[0m         8 \n",
            "\n",
            "\n",
            "\u001b[0m         2 \u001b[0m         3 \u001b[0m         4 \u001b[0m         5 \u001b[0m         6 \u001b[0m         7 \u001b[0m         8 \u001b[0m         7 \u001b[0m         8 \u001b[0m         7 \n",
            "\n",
            "\n",
            "\u001b[0m         3 \u001b[0m         4 \u001b[0m         5 \u001b[0m         6 \u001b[0m         7 \u001b[0m         8 \u001b[0m         7 \u001b[0m         8 \u001b[0m         9 \u001b[0m         8 \n",
            "\n",
            "\n",
            "\u001b[0m         4 \u001b[0m         3 \u001b[0m         4 \u001b[0m         5 \u001b[0m         6 \u001b[0m         7 \u001b[0m         8 \u001b[0m         9 \u001b[0m        10 \u001b[0m         9 \n",
            "\n",
            "\n",
            "\u001b[0m         5 \u001b[0m         4 \u001b[0m         5 \u001b[0m         6 \u001b[0m         7 \u001b[0m         8 \u001b[0m         9 \u001b[0m        10 \u001b[0m        11 \u001b[0m        10 \n",
            "\n",
            "\n",
            "\u001b[0m         6 \u001b[0m         5 \u001b[0m         6 \u001b[0m         7 \u001b[0m         8 \u001b[0m         9 \u001b[0m         8 \u001b[0m         9 \u001b[0m        10 \u001b[0m        11 \n",
            "\n",
            "\n",
            "\u001b[0m         7 \u001b[0m         6 \u001b[0m         7 \u001b[0m         8 \u001b[0m         9 \u001b[0m        10 \u001b[0m         9 \u001b[0m         8 \u001b[0m         9 \u001b[0m        10 \n",
            "\n",
            "\n",
            "\u001b[0m         8 \u001b[0m         7 \u001b[0m         8 \u001b[0m         9 \u001b[0m        10 \u001b[0m        11 \u001b[0m        10 \u001b[0m         9 \u001b[0m         8 \u001b[0m         9 \n",
            "\n",
            "\n",
            "\u001b[0m         9 \u001b[0m         8 \u001b[0m         9 \u001b[0m        10 \u001b[0m        11 \u001b[0m        12 \u001b[0m        11 \u001b[0m        10 \u001b[0m         9 \u001b[0m         8 \n",
            "\n",
            "\n",
            "---------------------------------------------------------------------------------------------------------------\n",
            "Augmented DP table with backtrace arrows added\n",
            "\n",
            "\u001b[0m        0↑ \u001b[0m        1← \u001b[0m        2← \u001b[0m        3← \u001b[0m        4← \u001b[0m        5← \u001b[0m        6← \u001b[0m        7← \u001b[0m        8← \u001b[0m        9← \n",
            "\n",
            "\n",
            "\u001b[0m        1↑ \u001b[0m      2←↑↖ \u001b[0m      3←↑↖ \u001b[0m      4←↑↖ \u001b[0m      5←↑↖ \u001b[0m      6←↑↖ \u001b[0m      7←↑↖ \u001b[0m        6↖ \u001b[0m        7← \u001b[0m        8← \n",
            "\n",
            "\n",
            "\u001b[0m        2↑ \u001b[0m      3←↑↖ \u001b[0m      4←↑↖ \u001b[0m      5←↑↖ \u001b[0m      6←↑↖ \u001b[0m      7←↑↖ \u001b[0m      8←↑↖ \u001b[0m        7↑ \u001b[0m      8←↑↖ \u001b[0m        7↖ \n",
            "\n",
            "\n",
            "\u001b[0m        3↑ \u001b[0m      4←↑↖ \u001b[0m      5←↑↖ \u001b[0m      6←↑↖ \u001b[0m      7←↑↖ \u001b[0m      8←↑↖ \u001b[0m        7↖ \u001b[0m       8←↑ \u001b[0m      9←↑↖ \u001b[0m        8↑ \n",
            "\n",
            "\n",
            "\u001b[0m        4↑ \u001b[0m        3↖ \u001b[0m        4← \u001b[0m       5←↖ \u001b[0m        6← \u001b[0m        7← \u001b[0m       8←↑ \u001b[0m      9←↑↖ \u001b[0m     10←↑↖ \u001b[0m        9↑ \n",
            "\n",
            "\n",
            "\u001b[0m        5↑ \u001b[0m        4↑ \u001b[0m      5←↑↖ \u001b[0m      6←↑↖ \u001b[0m      7←↑↖ \u001b[0m      8←↑↖ \u001b[0m      9←↑↖ \u001b[0m     10←↑↖ \u001b[0m     11←↑↖ \u001b[0m      10↑↖ \n",
            "\n",
            "\n",
            "\u001b[0m        6↑ \u001b[0m        5↑ \u001b[0m      6←↑↖ \u001b[0m      7←↑↖ \u001b[0m      8←↑↖ \u001b[0m      9←↑↖ \u001b[0m        8↖ \u001b[0m        9← \u001b[0m       10← \u001b[0m      11←↑ \n",
            "\n",
            "\n",
            "\u001b[0m        7↑ \u001b[0m        6↑ \u001b[0m      7←↑↖ \u001b[0m      8←↑↖ \u001b[0m      9←↑↖ \u001b[0m     10←↑↖ \u001b[0m        9↑ \u001b[0m        8↖ \u001b[0m        9← \u001b[0m       10← \n",
            "\n",
            "\n",
            "\u001b[0m        8↑ \u001b[0m        7↑ \u001b[0m      8←↑↖ \u001b[0m      9←↑↖ \u001b[0m     10←↑↖ \u001b[0m     11←↑↖ \u001b[0m       10↑ \u001b[0m        9↑ \u001b[0m        8↖ \u001b[0m        9← \n",
            "\n",
            "\n",
            "\u001b[0m        9↑ \u001b[0m        8↑ \u001b[0m      9←↑↖ \u001b[0m     10←↑↖ \u001b[0m     11←↑↖ \u001b[0m     12←↑↖ \u001b[0m       11↑ \u001b[0m       10↑ \u001b[0m        9↑ \u001b[0m        8↖ \n",
            "\n",
            "\n",
            "---------------------------------------------------------------------------------------------------------------\n",
            "Levinshtien Distance between \"intention\" and \"execution\" : 8\n",
            "--- Executed in: 0.01783609390258789 seconds ---\n"
          ]
        }
      ]
    }
  ]
}