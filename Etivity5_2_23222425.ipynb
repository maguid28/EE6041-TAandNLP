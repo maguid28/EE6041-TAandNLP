{
  "nbformat": 4,
  "nbformat_minor": 0,
  "metadata": {
    "colab": {
      "provenance": [],
      "authorship_tag": "ABX9TyNDkXY5mCOnx612Asy3zPBb",
      "include_colab_link": true
    },
    "kernelspec": {
      "name": "python3",
      "display_name": "Python 3"
    },
    "language_info": {
      "name": "python"
    }
  },
  "cells": [
    {
      "cell_type": "markdown",
      "metadata": {
        "id": "view-in-github",
        "colab_type": "text"
      },
      "source": [
        "<a href=\"https://colab.research.google.com/github/maguid28/EE6041-TAandNLP/blob/main/Etivity5_2_23222425.ipynb\" target=\"_parent\"><img src=\"https://colab.research.google.com/assets/colab-badge.svg\" alt=\"Open In Colab\"/></a>"
      ]
    },
    {
      "cell_type": "markdown",
      "source": [
        ""
      ],
      "metadata": {
        "id": "Jb2ab9n1ODYP"
      }
    },
    {
      "cell_type": "markdown",
      "source": [
        "#Task 1"
      ],
      "metadata": {
        "id": "Q_tBKfpgOV5s"
      }
    },
    {
      "cell_type": "code",
      "source": [
        "import numpy as np\n",
        "from collections import Counter"
      ],
      "metadata": {
        "id": "8nahr2LDnLaP"
      },
      "execution_count": null,
      "outputs": []
    },
    {
      "cell_type": "markdown",
      "source": [
        "#Training data"
      ],
      "metadata": {
        "id": "HTf5WOtZbNe4"
      }
    },
    {
      "cell_type": "code",
      "execution_count": null,
      "metadata": {
        "id": "PFIvsYvzN0YL"
      },
      "outputs": [],
      "source": [
        "megadoc_GB_IE_train = [\n",
        "    (\"London is the Capital of GB\", 1),\n",
        "    (\"Oxford is a city in GB\", 1),\n",
        "    (\"Dublin is the capital of Ireland\", 0),\n",
        "    (\"Limerick is a city in Ireland\", 0),\n",
        "]\n",
        "\n",
        "megadoc_IE_train = [\n",
        "    (\"Dublin is the capital of Ireland\", 0),\n",
        "    (\"Limerick is a city in Ireland\", 0),\n",
        "]\n",
        "\n",
        "megadoc_GB_train = [\n",
        "    (\"Oxford is a city in GB\", 1),\n",
        "    (\"London is the Capital of GB\", 1),\n",
        "]"
      ]
    },
    {
      "cell_type": "markdown",
      "source": [
        "#Test Dataset"
      ],
      "metadata": {
        "id": "rW2HBCU3bSIt"
      }
    },
    {
      "cell_type": "code",
      "source": [
        "megadoc_test_dataset = [\n",
        "    (\"University of Limerick\", \"?\"),\n",
        "    (\"University College Dublin\", \"?\"),\n",
        "    (\"Imperial College London\", \"?\"),\n",
        "    (\"University of Oxford\", \"?\"),\n",
        "    (\"Ireland & GB\", \"?\"),\n",
        "]"
      ],
      "metadata": {
        "id": "YaR0ZEQnbQmv"
      },
      "execution_count": null,
      "outputs": []
    },
    {
      "cell_type": "markdown",
      "source": [
        "#Priors"
      ],
      "metadata": {
        "id": "qPO-BBsrO1Ng"
      }
    },
    {
      "cell_type": "code",
      "source": [
        "def calculate_prior_probabilities(dataset):\n",
        "    total_samples = len(dataset)\n",
        "    print(f\"total samples:  {total_samples}\")\n",
        "    GB_samples = sum(label for _, label in dataset)\n",
        "    IE_samples = total_samples - GB_samples\n",
        "\n",
        "    print(dataset)\n",
        "\n",
        "    prior_probability_GB = GB_samples / total_samples\n",
        "    prior_probability_IE = IE_samples / total_samples\n",
        "\n",
        "    return prior_probability_GB, prior_probability_IE"
      ],
      "metadata": {
        "id": "kFTrc9wOCq88"
      },
      "execution_count": null,
      "outputs": []
    },
    {
      "cell_type": "code",
      "source": [
        "priorIE, priorGB = calculate_prior_probabilities(megadoc_GB_IE_train)\n",
        "priors = calculate_prior_probabilities(megadoc_GB_IE_train)"
      ],
      "metadata": {
        "colab": {
          "base_uri": "https://localhost:8080/"
        },
        "id": "yTMgDCiCcqEf",
        "outputId": "dab0de37-7de8-4ed8-eaed-b1c6416f275f"
      },
      "execution_count": null,
      "outputs": [
        {
          "output_type": "stream",
          "name": "stdout",
          "text": [
            "total samples:  4\n",
            "[('London is the Capital of GB', 1), ('Oxford is a city in GB', 1), ('Dublin is the capital of Ireland', 0), ('Limerick is a city in Ireland', 0)]\n",
            "total samples:  4\n",
            "[('London is the Capital of GB', 1), ('Oxford is a city in GB', 1), ('Dublin is the capital of Ireland', 0), ('Limerick is a city in Ireland', 0)]\n"
          ]
        }
      ]
    },
    {
      "cell_type": "markdown",
      "source": [
        "#Bag of Words"
      ],
      "metadata": {
        "id": "jTlJujtjO6J3"
      }
    },
    {
      "cell_type": "code",
      "source": [
        "def create_bow(dataset, min_frequency = 1):\n",
        "    all_words = []\n",
        "    for sample, _ in dataset:\n",
        "        all_words.extend(sample.lower().split())\n",
        "\n",
        "    word_frequencies = {}\n",
        "    for word in all_words:\n",
        "        if word in word_frequencies:\n",
        "            word_frequencies[word] += 1\n",
        "        else:\n",
        "            word_frequencies[word] = 1\n",
        "\n",
        "    bag_of_words = {word: count for word, count in word_frequencies.items() if count >= min_frequency}\n",
        "    return bag_of_words"
      ],
      "metadata": {
        "id": "zecfpWiBeuQQ"
      },
      "execution_count": null,
      "outputs": []
    },
    {
      "cell_type": "code",
      "source": [
        "bag_of_words_IE = create_bow(megadoc_IE_train)"
      ],
      "metadata": {
        "id": "_KtxPskve7to"
      },
      "execution_count": null,
      "outputs": []
    },
    {
      "cell_type": "code",
      "source": [
        "bag_of_words_GB = create_bow(megadoc_GB_train)"
      ],
      "metadata": {
        "id": "tl1Lsz_Oe41L",
        "colab": {
          "base_uri": "https://localhost:8080/",
          "height": 181
        },
        "outputId": "5e382bcf-b3b0-42e5-bc01-d8689a6ab978"
      },
      "execution_count": null,
      "outputs": [
        {
          "output_type": "error",
          "ename": "NameError",
          "evalue": "ignored",
          "traceback": [
            "\u001b[0;31m---------------------------------------------------------------------------\u001b[0m",
            "\u001b[0;31mNameError\u001b[0m                                 Traceback (most recent call last)",
            "\u001b[0;32m<ipython-input-1-fcf8dae50cb0>\u001b[0m in \u001b[0;36m<cell line: 1>\u001b[0;34m()\u001b[0m\n\u001b[0;32m----> 1\u001b[0;31m \u001b[0mbag_of_words_GB\u001b[0m \u001b[0;34m=\u001b[0m \u001b[0mcreate_bow\u001b[0m\u001b[0;34m(\u001b[0m\u001b[0mmegadoc_GB_train\u001b[0m\u001b[0;34m)\u001b[0m\u001b[0;34m\u001b[0m\u001b[0;34m\u001b[0m\u001b[0m\n\u001b[0m",
            "\u001b[0;31mNameError\u001b[0m: name 'create_bow' is not defined"
          ]
        }
      ]
    },
    {
      "cell_type": "code",
      "source": [
        "def create_combined_bow(*datasets):\n",
        "    combined_bow = {}\n",
        "    for dataset in datasets:\n",
        "        for sample, _ in dataset:\n",
        "            words = sample.lower().split()\n",
        "            for word in words:\n",
        "                combined_bow[word] = combined_bow.get(word, 0) + 1\n",
        "    return combined_bow\n",
        "\n",
        "combined_bow = create_combined_bow(megadoc_IE_train, megadoc_GB_train)"
      ],
      "metadata": {
        "id": "4NVtLKSdEcIq"
      },
      "execution_count": null,
      "outputs": []
    },
    {
      "cell_type": "markdown",
      "source": [
        "#Likelihoods"
      ],
      "metadata": {
        "id": "uZgjIMnUPJGz"
      }
    },
    {
      "cell_type": "code",
      "source": [
        "def calculate_likelihoods(dataset, bag_of_words):\n",
        "\n",
        "    laplace_smoothing = 1\n",
        "    gb_samples = [text.lower() for text, label in dataset if label == 1]\n",
        "    ie_samples = [text.lower() for text, label in dataset if label == 0]\n",
        "\n",
        "    gb_word_counts = {word: laplace_smoothing for word in bag_of_words}\n",
        "    ie_word_counts = {word: laplace_smoothing for word in bag_of_words}\n",
        "\n",
        "    for text in gb_samples:\n",
        "        for word in text.split():\n",
        "            if word in gb_word_counts:\n",
        "                gb_word_counts[word] += 1\n",
        "\n",
        "    for text in ie_samples:\n",
        "        for word in text.split():\n",
        "            if word in ie_word_counts:\n",
        "                ie_word_counts[word] += 1\n",
        "\n",
        "    gb_total_count = sum(gb_word_counts.values())\n",
        "    ie_total_count = sum(ie_word_counts.values())\n",
        "\n",
        "    gb_likelihoods = {word: gb_word_counts[word] / gb_total_count for word in gb_word_counts}\n",
        "    ie_likelihoods = {word: ie_word_counts[word] / ie_total_count for word in ie_word_counts}\n",
        "\n",
        "    return gb_likelihoods, ie_likelihoods"
      ],
      "metadata": {
        "id": "GaBynfWAFsMZ"
      },
      "execution_count": null,
      "outputs": []
    },
    {
      "cell_type": "markdown",
      "source": [
        "#Posterior Prob"
      ],
      "metadata": {
        "id": "amPIdRtyPM1m"
      }
    },
    {
      "cell_type": "code",
      "source": [
        "def posterior_probability(new_sample, prior_probabilities, likelihoods):\n",
        "    ie_likelihoods, gb_likelihoods = likelihoods\n",
        "    prior_probability_ie, prior_probability_gb = prior_probabilities\n",
        "\n",
        "    words = new_sample.lower().split()\n",
        "\n",
        "    log_gb_prob = np.log(prior_probability_gb)\n",
        "    log_ie_prob = np.log(prior_probability_ie)\n",
        "\n",
        "    for word in words:\n",
        "        gb_likelihood = gb_likelihoods.get(word, 1 / (sum(gb_likelihoods.values()) + len(gb_likelihoods)))\n",
        "        ie_likelihood = ie_likelihoods.get(word, 1 / (sum(ie_likelihoods.values()) + len(ie_likelihoods)))\n",
        "\n",
        "        print(f\"Word: {word} \\t wordConditionalProbGB: {gb_likelihood} \\t wordConditionalProbIE: {ie_likelihood}\")\n",
        "\n",
        "        log_gb_prob += np.log(gb_likelihood)\n",
        "        log_ie_prob += np.log(ie_likelihood)\n",
        "\n",
        "    #Convert back to normal probabilities\n",
        "    gb_prob = np.exp(log_gb_prob)\n",
        "    ie_prob = np.exp(log_ie_prob)\n",
        "\n",
        "    total_prob = gb_prob + ie_prob\n",
        "    posterior_probability_gb = gb_prob / total_prob\n",
        "    posterior_probability_ie = ie_prob / total_prob\n",
        "\n",
        "    return posterior_probability_gb, posterior_probability_ie\n"
      ],
      "metadata": {
        "id": "ptG7uTIOEPPW"
      },
      "execution_count": null,
      "outputs": []
    },
    {
      "cell_type": "code",
      "source": [
        "GB_likelihoods, IE_likelihoods = calculate_likelihoods(megadoc_GB_IE_train, combined_bow)\n",
        "likelihoods = (IE_likelihoods, GB_likelihoods)"
      ],
      "metadata": {
        "id": "3-yT2JT1MeWJ",
        "colab": {
          "base_uri": "https://localhost:8080/",
          "height": 199
        },
        "outputId": "7d5acba8-a50f-4b89-8d6a-3e8227042658"
      },
      "execution_count": null,
      "outputs": [
        {
          "output_type": "error",
          "ename": "NameError",
          "evalue": "ignored",
          "traceback": [
            "\u001b[0;31m---------------------------------------------------------------------------\u001b[0m",
            "\u001b[0;31mNameError\u001b[0m                                 Traceback (most recent call last)",
            "\u001b[0;32m<ipython-input-2-e5b67af1c4af>\u001b[0m in \u001b[0;36m<cell line: 1>\u001b[0;34m()\u001b[0m\n\u001b[0;32m----> 1\u001b[0;31m \u001b[0mGB_likelihoods\u001b[0m\u001b[0;34m,\u001b[0m \u001b[0mIE_likelihoods\u001b[0m \u001b[0;34m=\u001b[0m \u001b[0mcalculate_likelihoods\u001b[0m\u001b[0;34m(\u001b[0m\u001b[0mmegadoc_GB_IE_train\u001b[0m\u001b[0;34m,\u001b[0m \u001b[0mcombined_bow\u001b[0m\u001b[0;34m)\u001b[0m\u001b[0;34m\u001b[0m\u001b[0;34m\u001b[0m\u001b[0m\n\u001b[0m\u001b[1;32m      2\u001b[0m \u001b[0mlikelihoods\u001b[0m \u001b[0;34m=\u001b[0m \u001b[0;34m(\u001b[0m\u001b[0mIE_likelihoods\u001b[0m\u001b[0;34m,\u001b[0m \u001b[0mGB_likelihoods\u001b[0m\u001b[0;34m)\u001b[0m\u001b[0;34m\u001b[0m\u001b[0;34m\u001b[0m\u001b[0m\n",
            "\u001b[0;31mNameError\u001b[0m: name 'calculate_likelihoods' is not defined"
          ]
        }
      ]
    },
    {
      "cell_type": "markdown",
      "source": [
        "#Classify"
      ],
      "metadata": {
        "id": "MT_3y3TKPRAm"
      }
    },
    {
      "cell_type": "code",
      "source": [
        "def classify_text(sentence, prior_probabilities, likelihoods):\n",
        "    posterior_probability_gb, posterior_probability_ie = posterior_probability(sentence, prior_probabilities, likelihoods)\n",
        "    print(f\"\\ndocProbGB: {posterior_probability_gb}\")\n",
        "    print(f\"docProbIE: {posterior_probability_ie}\")\n",
        "\n",
        "    if posterior_probability_gb > posterior_probability_ie:\n",
        "        classification = \"GB\"\n",
        "    elif posterior_probability_ie > posterior_probability_gb:\n",
        "        classification = \"IE\"\n",
        "    else:\n",
        "        classification = \"Neutral\"\n",
        "\n",
        "    return classification"
      ],
      "metadata": {
        "id": "f2wlh7oYEsip"
      },
      "execution_count": null,
      "outputs": []
    },
    {
      "cell_type": "markdown",
      "source": [
        "#IE Likelihoods"
      ],
      "metadata": {
        "id": "lQsXN-yOlUBS"
      }
    },
    {
      "cell_type": "code",
      "source": [
        "IE_likelihoods"
      ],
      "metadata": {
        "colab": {
          "base_uri": "https://localhost:8080/"
        },
        "id": "U6YZ8ScajMB9",
        "outputId": "81fde1c8-4ae9-4544-8613-32be6411d060"
      },
      "execution_count": null,
      "outputs": [
        {
          "output_type": "execute_result",
          "data": {
            "text/plain": [
              "{'dublin': 0.08,\n",
              " 'is': 0.12,\n",
              " 'the': 0.08,\n",
              " 'capital': 0.08,\n",
              " 'of': 0.08,\n",
              " 'ireland': 0.12,\n",
              " 'limerick': 0.08,\n",
              " 'a': 0.08,\n",
              " 'city': 0.08,\n",
              " 'in': 0.08,\n",
              " 'oxford': 0.04,\n",
              " 'gb': 0.04,\n",
              " 'london': 0.04}"
            ]
          },
          "metadata": {},
          "execution_count": 633
        }
      ]
    },
    {
      "cell_type": "markdown",
      "source": [
        "#GB Likelihoods"
      ],
      "metadata": {
        "id": "AB-BSZ2glYKo"
      }
    },
    {
      "cell_type": "code",
      "source": [
        "GB_likelihoods"
      ],
      "metadata": {
        "colab": {
          "base_uri": "https://localhost:8080/"
        },
        "id": "I0sSbE5RjNCX",
        "outputId": "f96407a4-601d-4295-dcca-f5cf58964537"
      },
      "execution_count": null,
      "outputs": [
        {
          "output_type": "execute_result",
          "data": {
            "text/plain": [
              "{'dublin': 0.04,\n",
              " 'is': 0.12,\n",
              " 'the': 0.08,\n",
              " 'capital': 0.08,\n",
              " 'of': 0.08,\n",
              " 'ireland': 0.04,\n",
              " 'limerick': 0.04,\n",
              " 'a': 0.08,\n",
              " 'city': 0.08,\n",
              " 'in': 0.08,\n",
              " 'oxford': 0.08,\n",
              " 'gb': 0.12,\n",
              " 'london': 0.08}"
            ]
          },
          "metadata": {},
          "execution_count": 634
        }
      ]
    },
    {
      "cell_type": "markdown",
      "source": [
        "#Classify Test Docs"
      ],
      "metadata": {
        "id": "ap7SYJsANCFu"
      }
    },
    {
      "cell_type": "code",
      "source": [
        "print(f\"megadocIE: {megadoc_IE_train}\")\n",
        "print(f\"megadocGB: {megadoc_GB_train}\\n\")\n",
        "\n",
        "print(f\"IE_BOW = {bag_of_words_IE}\")\n",
        "print(f\"gb_BOW = {bag_of_words_GB}\\n\")\n",
        "\n",
        "print(f\"probIE: {priorIE}\")\n",
        "print(f\"probGB: {priorGB}\\n\")\n",
        "\n",
        "vocab_size = 0\n",
        "for i in combined_bow :\n",
        "  vocab_size+=1\n",
        "print(f\"V = {combined_bow}\")\n",
        "print(f\"|V| = {vocab_size}\\n\")\n",
        "\n",
        "for doc in megadoc_test_dataset :\n",
        "  print(\"--------------------------------------------------------------------------------\")\n",
        "  print(f\"\\nTest Document: {doc} \\n\")\n",
        "  classified_result = classify_text(doc[0], priors, likelihoods)\n",
        "  print(f\"\\nInferred Class: {classified_result}\")"
      ],
      "metadata": {
        "colab": {
          "base_uri": "https://localhost:8080/"
        },
        "id": "lr0Z8z6TnmIw",
        "outputId": "b1367616-0533-4404-9ee3-3d3232fbe7ba"
      },
      "execution_count": null,
      "outputs": [
        {
          "output_type": "stream",
          "name": "stdout",
          "text": [
            "megadocIE: [('Dublin is the capital of Ireland', 0), ('Limerick is a city in Ireland', 0)]\n",
            "megadocGB: [('Oxford is a city in GB', 1), ('London is the Capital of GB', 1)]\n",
            "\n",
            "IE_BOW = {'dublin': 1, 'is': 2, 'the': 1, 'capital': 1, 'of': 1, 'ireland': 2, 'limerick': 1, 'a': 1, 'city': 1, 'in': 1}\n",
            "gb_BOW = {'oxford': 1, 'is': 2, 'a': 1, 'city': 1, 'in': 1, 'gb': 2, 'london': 1, 'the': 1, 'capital': 1, 'of': 1}\n",
            "\n",
            "probIE: 0.5\n",
            "probGB: 0.5\n",
            "\n",
            "V = {'dublin': 1, 'is': 4, 'the': 2, 'capital': 2, 'of': 2, 'ireland': 2, 'limerick': 1, 'a': 2, 'city': 2, 'in': 2, 'oxford': 1, 'gb': 2, 'london': 1}\n",
            "|V| = 13\n",
            "\n",
            "--------------------------------------------------------------------------------\n",
            "\n",
            "Test Document: ('University of Limerick', '?') \n",
            "\n",
            "Word: university \t wordConditionalProbGB: 0.07142857142857142 \t wordConditionalProbIE: 0.07142857142857142\n",
            "Word: of \t wordConditionalProbGB: 0.08 \t wordConditionalProbIE: 0.08\n",
            "Word: limerick \t wordConditionalProbGB: 0.04 \t wordConditionalProbIE: 0.08\n",
            "\n",
            "docProbGB: 0.3333333333333333\n",
            "docProbIE: 0.6666666666666667\n",
            "\n",
            "Inferred Class: IE\n",
            "--------------------------------------------------------------------------------\n",
            "\n",
            "Test Document: ('University College Dublin', '?') \n",
            "\n",
            "Word: university \t wordConditionalProbGB: 0.07142857142857142 \t wordConditionalProbIE: 0.07142857142857142\n",
            "Word: college \t wordConditionalProbGB: 0.07142857142857142 \t wordConditionalProbIE: 0.07142857142857142\n",
            "Word: dublin \t wordConditionalProbGB: 0.04 \t wordConditionalProbIE: 0.08\n",
            "\n",
            "docProbGB: 0.3333333333333333\n",
            "docProbIE: 0.6666666666666666\n",
            "\n",
            "Inferred Class: IE\n",
            "--------------------------------------------------------------------------------\n",
            "\n",
            "Test Document: ('Imperial College London', '?') \n",
            "\n",
            "Word: imperial \t wordConditionalProbGB: 0.07142857142857142 \t wordConditionalProbIE: 0.07142857142857142\n",
            "Word: college \t wordConditionalProbGB: 0.07142857142857142 \t wordConditionalProbIE: 0.07142857142857142\n",
            "Word: london \t wordConditionalProbGB: 0.08 \t wordConditionalProbIE: 0.04\n",
            "\n",
            "docProbGB: 0.6666666666666666\n",
            "docProbIE: 0.3333333333333333\n",
            "\n",
            "Inferred Class: GB\n",
            "--------------------------------------------------------------------------------\n",
            "\n",
            "Test Document: ('University of Oxford', '?') \n",
            "\n",
            "Word: university \t wordConditionalProbGB: 0.07142857142857142 \t wordConditionalProbIE: 0.07142857142857142\n",
            "Word: of \t wordConditionalProbGB: 0.08 \t wordConditionalProbIE: 0.08\n",
            "Word: oxford \t wordConditionalProbGB: 0.08 \t wordConditionalProbIE: 0.04\n",
            "\n",
            "docProbGB: 0.6666666666666667\n",
            "docProbIE: 0.3333333333333333\n",
            "\n",
            "Inferred Class: GB\n",
            "--------------------------------------------------------------------------------\n",
            "\n",
            "Test Document: ('Ireland & GB', '?') \n",
            "\n",
            "Word: ireland \t wordConditionalProbGB: 0.04 \t wordConditionalProbIE: 0.12\n",
            "Word: & \t wordConditionalProbGB: 0.07142857142857142 \t wordConditionalProbIE: 0.07142857142857142\n",
            "Word: gb \t wordConditionalProbGB: 0.12 \t wordConditionalProbIE: 0.04\n",
            "\n",
            "docProbGB: 0.4999999999999995\n",
            "docProbIE: 0.5000000000000004\n",
            "\n",
            "Inferred Class: IE\n"
          ]
        }
      ]
    }
  ]
}
