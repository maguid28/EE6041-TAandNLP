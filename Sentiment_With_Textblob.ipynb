{
  "nbformat": 4,
  "nbformat_minor": 0,
  "metadata": {
    "colab": {
      "provenance": [],
      "authorship_tag": "ABX9TyO/tzk+lqRYQHtU8MaDGGb6",
      "include_colab_link": true
    },
    "kernelspec": {
      "name": "python3",
      "display_name": "Python 3"
    },
    "language_info": {
      "name": "python"
    }
  },
  "cells": [
    {
      "cell_type": "markdown",
      "metadata": {
        "id": "view-in-github",
        "colab_type": "text"
      },
      "source": [
        "<a href=\"https://colab.research.google.com/github/maguid28/EE6041-TAandNLP/blob/main/Sentiment_With_Textblob.ipynb\" target=\"_parent\"><img src=\"https://colab.research.google.com/assets/colab-badge.svg\" alt=\"Open In Colab\"/></a>"
      ]
    },
    {
      "cell_type": "code",
      "execution_count": null,
      "metadata": {
        "colab": {
          "base_uri": "https://localhost:8080/"
        },
        "id": "tJ2B-tXn42x0",
        "outputId": "e3849c54-f440-4f72-a1f6-ee08e51c310f"
      },
      "outputs": [
        {
          "output_type": "execute_result",
          "data": {
            "text/plain": [
              "(1.0,\n",
              " 1.0,\n",
              " 1.0,\n",
              " 1.0,\n",
              " Sentiment(polarity=0.16818181818181818, subjectivity=0.32727272727272727))"
            ]
          },
          "metadata": {},
          "execution_count": 10
        }
      ],
      "source": [
        "from sklearn.metrics import accuracy_score, precision_score, recall_score, f1_score\n",
        "from sklearn.model_selection import train_test_split\n",
        "from sklearn.naive_bayes import MultinomialNB\n",
        "from sklearn.feature_extraction.text import CountVectorizer\n",
        "from textblob import TextBlob\n",
        "\n",
        "# Sample data for demonstration\n",
        "texts = [\"I love this product\", \"This is a terrible product\", \"I feel great about this\", \"I hate this thing\", \"This is not good\"]\n",
        "labels = [1, 0, 1, 0, 0]  # Positive sentiment as 1, negative as 0\n",
        "\n",
        "# Splitting data\n",
        "X_train, X_test, y_train, y_test = train_test_split(texts, labels, test_size=0.2, random_state=42)\n",
        "\n",
        "# Vectorizing text\n",
        "vectorizer = CountVectorizer()\n",
        "X_train_vectors = vectorizer.fit_transform(X_train)\n",
        "X_test_vectors = vectorizer.transform(X_test)\n",
        "\n",
        "#Classifier\n",
        "nb_classifier = MultinomialNB()\n",
        "nb_classifier.fit(X_train_vectors, y_train)\n",
        "\n",
        "#prediction\n",
        "y_pred = nb_classifier.predict(X_test_vectors)\n",
        "\n",
        "#metrics\n",
        "accuracy = accuracy_score(y_test, y_pred)\n",
        "precision = precision_score(y_test, y_pred, average='macro')\n",
        "recall = recall_score(y_test, y_pred, average='macro')\n",
        "f1 = f1_score(y_test, y_pred, average='macro')\n",
        "\n",
        "text = \"I really like this new song\"\n",
        "blob = TextBlob(text)\n",
        "sentiment = blob.sentiment\n",
        "\n",
        "(accuracy, precision, recall, f1, sentiment)"
      ]
    },
    {
      "cell_type": "code",
      "source": [
        "from textblob import TextBlob\n",
        "\n",
        "texts = [\n",
        "    \"I love this product\",\n",
        "    \"This is a terrible product\",\n",
        "    \"I feel great about this\",\n",
        "    \"I hate this thing\",\n",
        "    \"This is not good\"\n",
        "]\n",
        "\n",
        "sentiments = []\n",
        "for text in texts:\n",
        "    blob = TextBlob(text)\n",
        "    sentiment = blob.sentiment\n",
        "    sentiments.append((text, sentiment[0]))\n",
        "\n",
        "sentiments"
      ],
      "metadata": {
        "colab": {
          "base_uri": "https://localhost:8080/"
        },
        "id": "DnQPYHWz52rZ",
        "outputId": "f7626bf6-1466-46cc-81b9-c77b20826c2e"
      },
      "execution_count": null,
      "outputs": [
        {
          "output_type": "execute_result",
          "data": {
            "text/plain": [
              "[('I love this product', 0.5),\n",
              " ('This is a terrible product', -1.0),\n",
              " ('I feel great about this', 0.8),\n",
              " ('I hate this thing', -0.8),\n",
              " ('This is not good', -0.35)]"
            ]
          },
          "metadata": {},
          "execution_count": 8
        }
      ]
    },
    {
      "cell_type": "code",
      "source": [
        "from sklearn.metrics import accuracy_score, precision_score, recall_score, f1_score\n",
        "\n",
        "predicted_labels = [1, 0, 1, 0, 0]\n",
        "actual_labels = [1, 0, 1, 0, 0]\n",
        "\n",
        "#Accuracy, Precision, Recall, and F1 Score\n",
        "accuracy = accuracy_score(actual_labels, predicted_labels)\n",
        "precision = precision_score(actual_labels, predicted_labels)\n",
        "recall = recall_score(actual_labels, predicted_labels)\n",
        "f1 = f1_score(actual_labels, predicted_labels)\n",
        "\n",
        "(accuracy, precision, recall, f1)"
      ],
      "metadata": {
        "colab": {
          "base_uri": "https://localhost:8080/"
        },
        "id": "t1AydBsl9IcP",
        "outputId": "d34f9f2d-f398-42bd-d3db-13f905232849"
      },
      "execution_count": null,
      "outputs": [
        {
          "output_type": "execute_result",
          "data": {
            "text/plain": [
              "(1.0, 1.0, 1.0, 1.0)"
            ]
          },
          "metadata": {},
          "execution_count": 9
        }
      ]
    },
    {
      "cell_type": "markdown",
      "source": [
        "# Manually calculating Accuracy, Precision, Recall, and F1 Score"
      ],
      "metadata": {
        "id": "83oUGGy89cC5"
      }
    },
    {
      "cell_type": "code",
      "source": [
        "tp = 0\n",
        "tn = 0\n",
        "fp = 0\n",
        "fn = 0\n",
        "\n",
        "# Count tp tn fp fn\n",
        "for actual, predicted in zip(actual_labels, predicted_labels):\n",
        "    if actual == predicted == 1:\n",
        "        tp += 1\n",
        "    elif actual == predicted == 0:\n",
        "        tn += 1\n",
        "    elif actual == 0 and predicted == 1:\n",
        "        fp += 1\n",
        "    elif actual == 1 and predicted == 0:\n",
        "        fn += 1\n",
        "\n",
        "accuracy_manual = (tp + tn) / (tp + tn + fp + fn)\n",
        "precision_manual = tp / (tp + fp) if (tp + fp) != 0 else 0\n",
        "recall_manual = tp / (tp + fn) if (tp + fn) != 0 else 0\n",
        "f1_manual = 2 * (precision_manual * recall_manual) / (precision_manual + recall_manual) if (precision_manual + recall_manual) != 0 else 0\n",
        "\n",
        "(accuracy_manual, precision_manual, recall_manual, f1_manual)"
      ],
      "metadata": {
        "colab": {
          "base_uri": "https://localhost:8080/"
        },
        "id": "Bca5nD3M9ZNt",
        "outputId": "2dcec07a-04a3-4a3c-9d93-1b30af55412e"
      },
      "execution_count": null,
      "outputs": [
        {
          "output_type": "execute_result",
          "data": {
            "text/plain": [
              "(1.0, 1.0, 1.0, 1.0)"
            ]
          },
          "metadata": {},
          "execution_count": 7
        }
      ]
    },
    {
      "cell_type": "code",
      "source": [
        "import matplotlib.pyplot as plt\n",
        "import seaborn as sns\n",
        "from sklearn.metrics import confusion_matrix\n",
        "import numpy as np\n",
        "\n",
        "conf_matrix = confusion_matrix(actual_labels, predicted_labels)\n",
        "\n",
        "plt.figure(figsize=(8, 6))\n",
        "sns.heatmap(conf_matrix, annot=True, fmt='g', cmap='Blues', xticklabels=['Negative', 'Positive'], yticklabels=['Negative', 'Positive'])\n",
        "plt.xlabel('Predicted Labels')\n",
        "plt.ylabel('True Labels')\n",
        "plt.title('Confusion Matrix')\n",
        "plt.show()\n"
      ],
      "metadata": {
        "colab": {
          "base_uri": "https://localhost:8080/",
          "height": 564
        },
        "id": "CfXvGGqbGYGr",
        "outputId": "2857e255-c0de-4cf9-b04e-939c1522e62b"
      },
      "execution_count": null,
      "outputs": [
        {
          "output_type": "display_data",
          "data": {
            "text/plain": [
              "<Figure size 800x600 with 2 Axes>"
            ],
            "image/png": "[encoded data removed]"
          },
          "metadata": {}
        }
      ]
    }
  ]
}